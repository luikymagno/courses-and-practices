{
 "cells": [
  {
   "cell_type": "markdown",
   "metadata": {},
   "source": [
    "# Classification"
   ]
  },
  {
   "cell_type": "code",
   "execution_count": 29,
   "metadata": {},
   "outputs": [],
   "source": [
    "import numpy as np\n",
    "import matplotlib as mpl\n",
    "import matplotlib.pyplot as plt\n",
    "from sklearn.datasets import fetch_openml\n",
    "from sklearn.linear_model import SGDClassifier\n",
    "from sklearn.ensemble import RandomForestClassifier\n",
    "from sklearn.neighbors import KNeighborsClassifier\n",
    "from sklearn.multiclass import OneVsOneClassifier\n",
    "from sklearn.model_selection import cross_val_predict, cross_val_score\n",
    "from sklearn.metrics import confusion_matrix, precision_score, recall_score, f1_score, precision_recall_curve, roc_curve, roc_auc_score\n",
    "from sklearn.preprocessing import StandardScaler"
   ]
  },
  {
   "cell_type": "code",
   "execution_count": 2,
   "metadata": {},
   "outputs": [
    {
     "name": "stdout",
     "output_type": "stream",
     "text": [
      "dict_keys(['data', 'target', 'frame', 'categories', 'feature_names', 'target_names', 'DESCR', 'details', 'url'])\n",
      "Features shape: (70000, 784)\n",
      "Digit label: 5\n"
     ]
    },
    {
     "data": {
      "image/png": "[encoded data removed]",
      "text/plain": [
       "<Figure size 432x288 with 1 Axes>"
      ]
     },
     "metadata": {
      "needs_background": "light"
     },
     "output_type": "display_data"
    }
   ],
   "source": [
    "mnist = fetch_openml(\"mnist_784\", version=1)\n",
    "print(\n",
    "    mnist.keys() # type: ignore\n",
    ")\n",
    "\n",
    "X, y = mnist[\"data\"], mnist[\"target\"] # type: ignore\n",
    "y = y.astype(np.uint8)\n",
    "print(f\"Features shape: {X.shape}\")\n",
    "\n",
    "some_digit = X.iloc[0].values\n",
    "some_digit_image = some_digit.reshape(28, 28)\n",
    "\n",
    "print(f\"Digit label: {y.iloc[0]}\")\n",
    "plt.imshow(\n",
    "    some_digit_image,\n",
    "    cmap=mpl.cm.binary, # type: ignore\n",
    "    interpolation=\"nearest\"\n",
    ")\n",
    "plt.axis(\"off\")\n",
    "plt.show()"
   ]
  },
  {
   "cell_type": "markdown",
   "metadata": {},
   "source": [
    "The MNIST dataset is actually already split into a training set (the first 60,000 images)\n",
    "and a test set (the last 10,000 images)  \n",
    "The training set is already shuffled for us, which is good as this guarantees that all cross-validation folds will be similar (you don’t want one fold to be missing some dig its). Moreover, some learning algorithms are sensitive to the order of the training instances, and they perform poorly if they get many similar instances in a row. Shuffling the dataset ensures that this won’t happen"
   ]
  },
  {
   "cell_type": "code",
   "execution_count": 3,
   "metadata": {},
   "outputs": [],
   "source": [
    "X_train, X_test, y_train, y_test = X.iloc[:60_000], X.iloc[60_000:], y.iloc[:60_000], y.iloc[60_000:]"
   ]
  },
  {
   "cell_type": "markdown",
   "metadata": {},
   "source": [
    "## Training a Binary Classiier\n",
    "Let’s simplify the problem for now and only try to identify one digit—for example,\n",
    "the number 5"
   ]
  },
  {
   "cell_type": "code",
   "execution_count": 4,
   "metadata": {},
   "outputs": [
    {
     "name": "stderr",
     "output_type": "stream",
     "text": [
      "/home/luiky/.pyenv/versions/3.9.11/envs/handson_ml_3911/lib/python3.9/site-packages/sklearn/base.py:450: UserWarning: X does not have valid feature names, but SGDClassifier was fitted with feature names\n",
      "  warnings.warn(\n"
     ]
    },
    {
     "data": {
      "text/plain": [
       "array([ True])"
      ]
     },
     "execution_count": 4,
     "metadata": {},
     "output_type": "execute_result"
    }
   ],
   "source": [
    "y_train_5 = y_train == 5\n",
    "y_test_5 = y_test == 5\n",
    "\n",
    "sgd_clf = SGDClassifier(random_state=42)\n",
    "sgd_clf.fit(X_train, y_train_5)\n",
    "sgd_clf.predict([some_digit])"
   ]
  },
  {
   "cell_type": "markdown",
   "metadata": {},
   "source": [
    "## Performance Measures"
   ]
  },
  {
   "cell_type": "markdown",
   "metadata": {},
   "source": [
    "### Confusion Matrix"
   ]
  },
  {
   "cell_type": "code",
   "execution_count": 5,
   "metadata": {},
   "outputs": [
    {
     "data": {
      "text/plain": [
       "array([[53892,   687],\n",
       "       [ 1891,  3530]])"
      ]
     },
     "execution_count": 5,
     "metadata": {},
     "output_type": "execute_result"
    }
   ],
   "source": [
    "# returns, for each element in the input, the prediction that was obtained\n",
    "# for that element when it was in the test set\n",
    "y_train_pred = cross_val_predict(sgd_clf, X_train, y_train_5, cv=3)\n",
    "confusion_matrix(y_train_5, y_train_pred)"
   ]
  },
  {
   "cell_type": "markdown",
   "metadata": {},
   "source": [
    "#### Precision and Recall"
   ]
  },
  {
   "cell_type": "code",
   "execution_count": 6,
   "metadata": {},
   "outputs": [
    {
     "name": "stdout",
     "output_type": "stream",
     "text": [
      "Precision = 0.8370879772350012\n",
      "Recall = 0.6511713705958311\n",
      "F1 Score: 0.7325171197343846\n"
     ]
    }
   ],
   "source": [
    "print(f\"Precision = {precision_score(y_train_5, y_train_pred)}\")\n",
    "print(f\"Recall = {recall_score(y_train_5, y_train_pred)}\")\n",
    "print(f\"F1 Score: {f1_score(y_train_5, y_train_pred)}\")"
   ]
  },
  {
   "cell_type": "code",
   "execution_count": 7,
   "metadata": {},
   "outputs": [
    {
     "data": {
      "image/png": "[encoded data removed]",
      "text/plain": [
       "<Figure size 432x288 with 1 Axes>"
      ]
     },
     "metadata": {
      "needs_background": "light"
     },
     "output_type": "display_data"
    }
   ],
   "source": [
    "def plot_precision_recall_vs_threshold(precisions, recalls, thresholds):\n",
    "    plt.plot(thresholds, precisions[:-1], \"b--\", label=\"Precision\")\n",
    "    plt.plot(thresholds, recalls[:-1], \"g-\", label=\"Recall\")\n",
    "\n",
    "y_train_scores = cross_val_predict(sgd_clf, X_train, y_train_5, cv = 3, method=\"decision_function\")\n",
    "precisions, recalls, thresholds = precision_recall_curve(y_train_5, y_train_scores)\n",
    "plot_precision_recall_vs_threshold(precisions, recalls, thresholds)"
   ]
  },
  {
   "cell_type": "code",
   "execution_count": 8,
   "metadata": {},
   "outputs": [
    {
     "name": "stdout",
     "output_type": "stream",
     "text": [
      "Precision = 0.9000345901072293\n",
      "Recall = 0.4799852425751706\n",
      "F1 Score: 0.626082771896054\n"
     ]
    }
   ],
   "source": [
    "# Get the lowest threshold that gives you at least 90% precision\n",
    "threshold_90_precision = thresholds[np.argmax(precisions >= 0.90)]\n",
    "y_train_pred_90 = y_train_scores >= threshold_90_precision\n",
    "\n",
    "print(f\"Precision = {precision_score(y_train_5, y_train_pred_90)}\")\n",
    "print(f\"Recall = {recall_score(y_train_5, y_train_pred_90)}\")\n",
    "print(f\"F1 Score: {f1_score(y_train_5, y_train_pred_90)}\")\n"
   ]
  },
  {
   "cell_type": "code",
   "execution_count": 9,
   "metadata": {},
   "outputs": [
    {
     "data": {
      "image/png": "[encoded data removed]",
      "text/plain": [
       "<Figure size 432x288 with 1 Axes>"
      ]
     },
     "metadata": {
      "needs_background": "light"
     },
     "output_type": "display_data"
    },
    {
     "name": "stdout",
     "output_type": "stream",
     "text": [
      "AUC: 0.9604938554008616\n"
     ]
    }
   ],
   "source": [
    "def plot_roc_curve(fpr, tpr, label=None):\n",
    "    plt.plot(fpr, tpr, linewidth=2, label=label)\n",
    "    plt.plot([0, 1], [0, 1], 'k--') # dashed diagonal\n",
    "\n",
    "fprs, tprs, thresholds = roc_curve(y_train_5, y_train_scores)\n",
    "# The dotted line represents the ROC curve of a purely random classifier.\n",
    "# A good classifier stays as far away from that line as possible (toward the top-left corner)\n",
    "plot_roc_curve(fprs, tprs)\n",
    "plt.show()\n",
    "print(f\"AUC: {roc_auc_score(y_train_5, y_train_scores)}\")"
   ]
  },
  {
   "cell_type": "code",
   "execution_count": 10,
   "metadata": {},
   "outputs": [
    {
     "data": {
      "image/png": "[encoded data removed]",
      "text/plain": [
       "<Figure size 432x288 with 1 Axes>"
      ]
     },
     "metadata": {
      "needs_background": "light"
     },
     "output_type": "display_data"
    },
    {
     "name": "stdout",
     "output_type": "stream",
     "text": [
      "AUC: 0.998402186461512\n"
     ]
    }
   ],
   "source": [
    "forest_clf = RandomForestClassifier(random_state=42)\n",
    "# Predict_proba() method returns an array containing a row per instance and a column per class,\n",
    "# each containing the probability that the given instance belongs to the given class\n",
    "y_probas_forest = cross_val_predict(forest_clf, X_train, y_train_5, cv=5, method=\"predict_proba\")\n",
    "y_scores_forest = y_probas_forest[:,1] # Score = Probability of the positive class\n",
    "fpr_forests, tpr_forests, thresholds = roc_curve(y_train_5, y_scores_forest)\n",
    "\n",
    "plt.plot(fprs, tprs, \"b:\", label=\"SGD\")\n",
    "plot_roc_curve(fpr_forests, tpr_forests, \"Random Forest\")\n",
    "plt.legend(loc=\"lower right\")\n",
    "plt.show()\n",
    "print(f\"AUC: {roc_auc_score(y_train_5, y_scores_forest)}\")"
   ]
  },
  {
   "cell_type": "markdown",
   "metadata": {},
   "source": [
    "### Multiclass Classification"
   ]
  },
  {
   "cell_type": "code",
   "execution_count": 11,
   "metadata": {},
   "outputs": [
    {
     "name": "stdout",
     "output_type": "stream",
     "text": [
      "Digit 5 prediction: [3]\n",
      "Digit 5 scores: [[-31893.03095419 -34419.69069632  -9530.63950739   1823.73154031\n",
      "  -22320.14822878  -1385.80478895 -26188.91070951 -16147.51323997\n",
      "   -4604.35491274 -12050.767298  ]]\n",
      "Classes: [0 1 2 3 4 5 6 7 8 9]\n"
     ]
    },
    {
     "name": "stderr",
     "output_type": "stream",
     "text": [
      "/home/luiky/.pyenv/versions/3.9.11/envs/handson_ml_3911/lib/python3.9/site-packages/sklearn/base.py:450: UserWarning: X does not have valid feature names, but SGDClassifier was fitted with feature names\n",
      "  warnings.warn(\n",
      "/home/luiky/.pyenv/versions/3.9.11/envs/handson_ml_3911/lib/python3.9/site-packages/sklearn/base.py:450: UserWarning: X does not have valid feature names, but SGDClassifier was fitted with feature names\n",
      "  warnings.warn(\n"
     ]
    }
   ],
   "source": [
    "sgd_clf.fit(X_train, y_train)\n",
    "# Scikit-Learn detects when you try to use a binary classification algorithm for a multiclass\n",
    "# classification task, and it automatically runs OvA (except for SVM classifiers for which it uses OvO)\n",
    "print(f\"Digit 5 prediction: {sgd_clf.predict([some_digit])}\")\n",
    "\n",
    "some_digit_scores = sgd_clf.decision_function([some_digit])\n",
    "print(f\"Digit 5 scores: {some_digit_scores}\")\n",
    "\n",
    "print(f\"Classes: {sgd_clf.classes_}\") # type: ignore"
   ]
  },
  {
   "cell_type": "code",
   "execution_count": 14,
   "metadata": {},
   "outputs": [
    {
     "name": "stdout",
     "output_type": "stream",
     "text": [
      "Digit 5 prediction: [5]\n",
      "Number of estimators: 45\n"
     ]
    },
    {
     "name": "stderr",
     "output_type": "stream",
     "text": [
      "/home/luiky/.pyenv/versions/3.9.11/envs/handson_ml_3911/lib/python3.9/site-packages/sklearn/base.py:450: UserWarning: X does not have valid feature names, but OneVsOneClassifier was fitted with feature names\n",
      "  warnings.warn(\n"
     ]
    }
   ],
   "source": [
    "# Enforce one vs one classification\n",
    "ovo_clf = OneVsOneClassifier(SGDClassifier(random_state=42))\n",
    "ovo_clf.fit(X_train, y_train)\n",
    "print(f\"Digit 5 prediction: {ovo_clf.predict([some_digit])}\")\n",
    "print(f\"Number of estimators: {len(ovo_clf.estimators_)}\") # type: ignore"
   ]
  },
  {
   "cell_type": "code",
   "execution_count": 23,
   "metadata": {},
   "outputs": [
    {
     "name": "stdout",
     "output_type": "stream",
     "text": [
      "Cross-Validation Scores: [0.87365 0.85835 0.8689 ]\n",
      "Cross-Validation Scores after scaling: [0.8983 0.891  0.9018]\n"
     ]
    }
   ],
   "source": [
    "scores = cross_val_score(sgd_clf, X_train, y_train, cv=3, scoring=\"accuracy\")\n",
    "print(f\"Cross-Validation Scores: {scores}\")\n",
    "\n",
    "scaler = StandardScaler()\n",
    "X_train_scaled = scaler.fit_transform(X_train.astype(np.float64))\n",
    "\n",
    "scores = cross_val_score(sgd_clf, X_train_scaled, y_train, cv=3, scoring=\"accuracy\")\n",
    "print(f\"Cross-Validation Scores after scaling: {scores}\")"
   ]
  },
  {
   "cell_type": "code",
   "execution_count": 25,
   "metadata": {},
   "outputs": [
    {
     "data": {
      "image/png": "[encoded data removed]",
      "text/plain": [
       "<Figure size 288x288 with 1 Axes>"
      ]
     },
     "metadata": {
      "needs_background": "light"
     },
     "output_type": "display_data"
    }
   ],
   "source": [
    "y_train_pred = cross_val_predict(sgd_clf, X_train, y_train, cv=3)\n",
    "conf_mx = confusion_matrix(y_train, y_train_pred)\n",
    "plt.matshow(conf_mx, cmap=plt.cm.gray) # type: ignore\n",
    "plt.show()"
   ]
  },
  {
   "cell_type": "code",
   "execution_count": 28,
   "metadata": {},
   "outputs": [
    {
     "data": {
      "image/png": "[encoded data removed]",
      "text/plain": [
       "<Figure size 288x288 with 1 Axes>"
      ]
     },
     "metadata": {
      "needs_background": "light"
     },
     "output_type": "display_data"
    }
   ],
   "source": [
    "row_sums = conf_mx.sum(axis=1)\n",
    "norm_conf_mx = conf_mx / row_sums\n",
    "# Fill the diagonal with zeros to keep only the errors\n",
    "np.fill_diagonal(norm_conf_mx, 0)\n",
    "plt.matshow(norm_conf_mx, cmap=plt.cm.gray)\n",
    "plt.show()"
   ]
  },
  {
   "cell_type": "markdown",
   "metadata": {},
   "source": [
    "### Multilabel Classiication"
   ]
  },
  {
   "cell_type": "code",
   "execution_count": 36,
   "metadata": {},
   "outputs": [
    {
     "name": "stderr",
     "output_type": "stream",
     "text": [
      "/home/luiky/.pyenv/versions/3.9.11/envs/handson_ml_3911/lib/python3.9/site-packages/sklearn/base.py:450: UserWarning: X does not have valid feature names, but KNeighborsClassifier was fitted with feature names\n",
      "  warnings.warn(\n"
     ]
    },
    {
     "name": "stdout",
     "output_type": "stream",
     "text": [
      "Digit 5 prediction: [[False  True]]\n",
      "F1 Score: 0.976410265560605\n"
     ]
    }
   ],
   "source": [
    "y_train_large = (y_train >= 7)\n",
    "y_train_odd = (y_train % 2 == 1)\n",
    "y_multilabel = np.c_[y_train_large, y_train_odd]\n",
    "knn_clf = KNeighborsClassifier()\n",
    "knn_clf.fit(X_train, y_multilabel)\n",
    "print(f\"Digit 5 prediction: {knn_clf.predict([some_digit])}\")\n",
    "\n",
    "y_train_knn_pred = cross_val_predict(knn_clf, X_train, y_multilabel, cv=3)\n",
    "# This assumes that all labels are equally important\n",
    "knn_f1_score = f1_score(y_multilabel, y_train_knn_pred, average=\"macro\")\n",
    "print(f\"F1 Score: {knn_f1_score}\")"
   ]
  },
  {
   "cell_type": "markdown",
   "metadata": {},
   "source": [
    "### Multioutput Classiication"
   ]
  },
  {
   "cell_type": "code",
   "execution_count": 48,
   "metadata": {},
   "outputs": [
    {
     "name": "stderr",
     "output_type": "stream",
     "text": [
      "/home/luiky/.pyenv/versions/3.9.11/envs/handson_ml_3911/lib/python3.9/site-packages/sklearn/base.py:450: UserWarning: X does not have valid feature names, but KNeighborsClassifier was fitted with feature names\n",
      "  warnings.warn(\n"
     ]
    },
    {
     "data": {
      "image/png": "[encoded data removed]",
      "text/plain": [
       "<Figure size 432x288 with 2 Axes>"
      ]
     },
     "metadata": {
      "needs_background": "light"
     },
     "output_type": "display_data"
    }
   ],
   "source": [
    "noise = np.random.randint(0, 100, X_train.shape)\n",
    "X_train_mod = X_train + noise\n",
    "y_train_mod = X_train\n",
    "\n",
    "noise = np.random.randint(0, 100, X_test.shape)\n",
    "X_test_mod = X_test + noise\n",
    "y_test_mod = X_test\n",
    "\n",
    "knn_clf.fit(X_train_mod, y_train_mod)\n",
    "clean_digit = knn_clf.predict([X_test_mod.iloc[3]])\n",
    "plt.figure(1)\n",
    "plt.subplot(1,2,1)\n",
    "plt.imshow(X_test_mod.iloc[3].values.reshape((28, 28)), cmap=plt.cm.gray) # type: ignore\n",
    "plt.subplot(1,2,2)\n",
    "plt.imshow(clean_digit.reshape((28, 28)), cmap=plt.cm.gray) # type: ignore\n",
    "plt.show()"
   ]
  },
  {
   "cell_type": "code",
   "execution_count": 12,
   "metadata": {},
   "outputs": [
    {
     "name": "stdout",
     "output_type": "stream",
     "text": [
      "0.9669\n",
      "0.91625\n",
      "0.96785\n"
     ]
    }
   ],
   "source": [
    "\"\"\"\n",
    "The StratifiedKFold class performs stratified sampling (as explained in Chapter 2)\n",
    "to produce folds that contain a representative ratio of each class. At each iteration the\n",
    "code creates a clone of the classifier, trains that clone on the training folds, and makes\n",
    "predictions on the test fold. Then it counts the number of correct predictions and\n",
    "outputs the ratio of correct predictions\n",
    "\"\"\"\n",
    "\n",
    "from sklearn.model_selection import StratifiedKFold\n",
    "from sklearn.base import clone\n",
    "\n",
    "########## Implementing cross-validation ##########\n",
    "\n",
    "skfolds = StratifiedKFold(\n",
    "    n_splits=3,\n",
    "    random_state=42,\n",
    "    shuffle=True,\n",
    ")\n",
    "\n",
    "for train_indexes, test_indexes in skfolds.split(X_train, y_train_5):\n",
    "    clone_clf: SGDClassifier = clone(sgd_clf) # type: ignore\n",
    "    X_train_fold = X_train.iloc[train_indexes]\n",
    "    y_train_fold = y_train_5.iloc[train_indexes]\n",
    "    X_test_fold = X_train.iloc[test_indexes]\n",
    "    y_test_fold = y_train_5.iloc[test_indexes]\n",
    "\n",
    "    clone_clf.fit(X_train_fold, y_train_fold)\n",
    "    y_pred = clone_clf.predict(X_test_fold)\n",
    "    n_correct = sum(y_pred == y_test_fold)\n",
    "    print(n_correct/len(y_pred))\n"
   ]
  }
 ],
 "metadata": {
  "interpreter": {
   "hash": "1ec4adc7c4b5436be250e79447a491cc30728826a0f5482912241624cf2c06c4"
  },
  "kernelspec": {
   "display_name": "Python 3.9.11 64-bit ('handson_ml_3911')",
   "language": "python",
   "name": "python3"
  },
  "language_info": {
   "codemirror_mode": {
    "name": "ipython",
    "version": 3
   },
   "file_extension": ".py",
   "mimetype": "text/x-python",
   "name": "python",
   "nbconvert_exporter": "python",
   "pygments_lexer": "ipython3",
   "version": "3.9.11"
  },
  "orig_nbformat": 4
 },
 "nbformat": 4,
 "nbformat_minor": 2
}
