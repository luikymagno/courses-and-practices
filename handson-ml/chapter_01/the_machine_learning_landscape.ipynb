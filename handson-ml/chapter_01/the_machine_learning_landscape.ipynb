{
 "cells": [
  {
   "cell_type": "markdown",
   "metadata": {},
   "source": [
    "### Training and running a linear model using Scikit-Learn"
   ]
  },
  {
   "cell_type": "code",
   "execution_count": 76,
   "metadata": {},
   "outputs": [],
   "source": [
    "import os\n",
    "import matplotlib.pyplot as plt\n",
    "import numpy as np\n",
    "import pandas as pd\n",
    "import sklearn.linear_model\n",
    "import sklearn.neighbors\n",
    "import urllib.request\n",
    "import logging\n",
    "\n",
    "### Configurations ###\n",
    "\n",
    "logger = logging.getLogger(\"chapter 1\")\n",
    "logger.setLevel(logging.INFO)\n",
    "\n",
    "DATA_FOLDER_PATH: str = os.path.join(os.getcwd(), \"datasets\")\n",
    "os.makedirs(name=DATA_FOLDER_PATH, exist_ok=True) # Create the folder if it doesn't exist\n",
    "DATA_SOURCE_ROOT_URL: str = \"https://raw.githubusercontent.com/ageron/handson-ml2/master/datasets/lifesat/\"\n",
    "OECD_DATASET_NAME: str = \"oecd_bli_2015.csv\" # Better life index data from the OECD's website\n",
    "GDP_DATASET_NAME: str = \"gdp_per_capita.csv\" # Income per capita from the IMF's website"
   ]
  },
  {
   "cell_type": "code",
   "execution_count": 77,
   "metadata": {},
   "outputs": [
    {
     "name": "stderr",
     "output_type": "stream",
     "text": [
      "INFO:chapter 1:Downloading oecd_bli_2015.csv\n",
      "INFO:chapter 1:Downloading gdp_per_capita.csv\n"
     ]
    },
    {
     "data": {
      "text/plain": [
       "('/home/luiky/Documents/repositories/handson-ml/chapter_01/datasets/gdp_per_capita.csv',\n",
       " <http.client.HTTPMessage at 0x7f1aa60eb970>)"
      ]
     },
     "execution_count": 77,
     "metadata": {},
     "output_type": "execute_result"
    }
   ],
   "source": [
    "### Download the data ###\n",
    "\n",
    "logger.info(f\"Downloading {OECD_DATASET_NAME}\")\n",
    "urllib.request.urlretrieve(\n",
    "    url=f\"{DATA_SOURCE_ROOT_URL}{OECD_DATASET_NAME}\",\n",
    "    filename=os.path.join(DATA_FOLDER_PATH, OECD_DATASET_NAME),\n",
    ")\n",
    "\n",
    "logger.info(f\"Downloading {GDP_DATASET_NAME}\")\n",
    "urllib.request.urlretrieve(\n",
    "    url=f\"{DATA_SOURCE_ROOT_URL}{GDP_DATASET_NAME}\",\n",
    "    filename=os.path.join(DATA_FOLDER_PATH, GDP_DATASET_NAME),\n",
    ")"
   ]
  },
  {
   "cell_type": "code",
   "execution_count": 78,
   "metadata": {},
   "outputs": [
    {
     "data": {
      "image/png": "[encoded data removed]",
      "text/plain": [
       "<Figure size 432x288 with 1 Axes>"
      ]
     },
     "metadata": {
      "needs_background": "light"
     },
     "output_type": "display_data"
    }
   ],
   "source": [
    "### Helper functions ###\n",
    "def prepare_country_stats(oecd_bli, gdp_per_capita):\n",
    "    \"\"\"\n",
    "    Function created by the author to clean and prepare the data\n",
    "    We'll not try to improve it since our goal here is to study Machine Learning\n",
    "    Basically this will clean and join the datasets\n",
    "    \"\"\"\n",
    "    oecd_bli = oecd_bli[oecd_bli[\"INEQUALITY\"]==\"TOT\"]\n",
    "    oecd_bli = oecd_bli.pivot(index=\"Country\", columns=\"Indicator\", values=\"Value\")\n",
    "    gdp_per_capita.rename(columns={\"2015\": \"GDP per capita\"}, inplace=True)\n",
    "    gdp_per_capita.set_index(\"Country\", inplace=True)\n",
    "    full_country_stats = pd.merge(left=oecd_bli, right=gdp_per_capita,\n",
    "                                  left_index=True, right_index=True)\n",
    "    full_country_stats.sort_values(by=\"GDP per capita\", inplace=True)\n",
    "    remove_indices = [0, 1, 6, 8, 33, 34, 35]\n",
    "    keep_indices = list(set(range(36)) - set(remove_indices))\n",
    "    return full_country_stats[[\"GDP per capita\", 'Life satisfaction']].iloc[keep_indices] # type: ignore\n",
    "\n",
    "# Load data\n",
    "oecd_df: pd.DataFrame = pd.read_csv(\n",
    "    os.path.join(DATA_FOLDER_PATH, OECD_DATASET_NAME),\n",
    "    thousands=\",\",\n",
    ")\n",
    "gdp_df: pd.DataFrame = pd.read_csv(\n",
    "    os.path.join(DATA_FOLDER_PATH, GDP_DATASET_NAME),\n",
    "    thousands=\",\",\n",
    "    delimiter=\"\\t\",\n",
    "    encoding=\"latin1\",\n",
    "    na_values=\"n/a\",\n",
    ")\n",
    "\n",
    "# Prepare the data\n",
    "country_stats = prepare_country_stats(oecd_df, gdp_df)\n",
    "# np.c_[] will stack the array in the last axis, i.e. it'll create a list of lists with shape (nb_samples, nb_features)\n",
    "X: np.ndarray = np.c_[country_stats[\"GDP per capita\"]]\n",
    "y: np.ndarray = np.c_[country_stats[\"Life satisfaction\"]]\n",
    "\n",
    "# Visualize the data\n",
    "country_stats.plot(kind='scatter', x=\"GDP per capita\", y='Life satisfaction')\n",
    "plt.show()"
   ]
  },
  {
   "cell_type": "code",
   "execution_count": 79,
   "metadata": {},
   "outputs": [
    {
     "name": "stdout",
     "output_type": "stream",
     "text": [
      "Intercept: 4.85\n",
      "Slope: 0.00005\n",
      "Prediction for Cyprus' GDP per capita with linear regression: [[5.96242338]]\n"
     ]
    }
   ],
   "source": [
    "### Build the linear model ###\n",
    "linear_model: sklearn.linear_model.LinearRegression = sklearn.linear_model.LinearRegression()\n",
    "# Train the model\n",
    "linear_model.fit(\n",
    "    X=X,\n",
    "    y=y\n",
    ")\n",
    "theta_0: float = linear_model.intercept_[0] # type: ignore\n",
    "theta_1: float = linear_model.coef_[0][0] # type: ignore\n",
    "print(f\"Intercept: {theta_0:.2f}\\nSlope: {theta_1:.5f}\")\n",
    "\n",
    "X_new: list[list[int]] = [[22587]]\n",
    "print(f\"Prediction for Cyprus' GDP per capita with linear regression: {linear_model.predict(X_new)}\")"
   ]
  },
  {
   "cell_type": "code",
   "execution_count": 80,
   "metadata": {},
   "outputs": [
    {
     "data": {
      "image/png": "[encoded data removed]",
      "text/plain": [
       "<Figure size 432x288 with 1 Axes>"
      ]
     },
     "metadata": {
      "needs_background": "light"
     },
     "output_type": "display_data"
    }
   ],
   "source": [
    "### Visualize the model ###\n",
    "X_linspace: np.ndarray = np.linspace(0, 60000, 1000)\n",
    "country_stats.plot(kind='scatter', x=\"GDP per capita\", y='Life satisfaction')\n",
    "plt.axis([0, 60000, 0, 10])\n",
    "plt.plot(X_linspace, theta_0 + theta_1*X_linspace, \"k\")\n",
    "plt.text(5000, 3.1, r\"$\\theta_0 = 4.85$\", fontsize=14, color=\"k\")\n",
    "plt.text(5000, 2.2, r\"$\\theta_1 = 4.91 \\times 10^{-5}$\", fontsize=14, color=\"k\")\n",
    "plt.show()"
   ]
  },
  {
   "cell_type": "code",
   "execution_count": 81,
   "metadata": {},
   "outputs": [
    {
     "name": "stdout",
     "output_type": "stream",
     "text": [
      "Prediction for Cyprus' GDP per capita with knn: [[5.76666667]]\n"
     ]
    }
   ],
   "source": [
    "### Build the instance-based algorithm ###\n",
    "n_neighbors: int = 3\n",
    "knn_model = sklearn.neighbors.KNeighborsRegressor(n_neighbors=n_neighbors)\n",
    "\n",
    "# Train the model\n",
    "knn_model.fit(\n",
    "    X=X,\n",
    "    y=y\n",
    ")\n",
    "\n",
    "X_new: list[list[int]] = [[22587]]\n",
    "print(f\"Prediction for Cyprus' GDP per capita with knn: {knn_model.predict(X_new)}\")"
   ]
  },
  {
   "cell_type": "code",
   "execution_count": 101,
   "metadata": {},
   "outputs": [
    {
     "name": "stdout",
     "output_type": "stream",
     "text": [
      "Intercept: 5.88\n",
      "Slope: 0.00002\n",
      "Prediction for Cyprus' GDP per capita with linear regression: [[6.29390176]]\n"
     ]
    }
   ],
   "source": [
    "### Build the linear model with ridge regularization ###\n",
    "ridge_linear_model: sklearn.linear_model.Ridge = sklearn.linear_model.Ridge(alpha=10**10)\n",
    "\n",
    "# Train the model\n",
    "ridge_linear_model.fit(\n",
    "    X=X,\n",
    "    y=y\n",
    ")\n",
    "ridge_theta_0: float = ridge_linear_model.intercept_[0] # type: ignore\n",
    "ridge_theta_1: float = ridge_linear_model.coef_[0][0] # type: ignore\n",
    "print(f\"Intercept: {ridge_theta_0:.2f}\\nSlope: {ridge_theta_1:.5f}\")\n",
    "\n",
    "X_new: list[list[int]] = [[22587]]\n",
    "print(f\"Prediction for Cyprus' GDP per capita with linear regression: {ridge_linear_model.predict(X_new)}\")"
   ]
  },
  {
   "cell_type": "code",
   "execution_count": 103,
   "metadata": {},
   "outputs": [
    {
     "data": {
      "image/png": "[encoded data removed]",
      "text/plain": [
       "<Figure size 432x288 with 1 Axes>"
      ]
     },
     "metadata": {
      "needs_background": "light"
     },
     "output_type": "display_data"
    }
   ],
   "source": [
    "### Visualize the linear model and the ridge one ###\n",
    "X_linspace: np.ndarray = np.linspace(0, 60000, 1000)\n",
    "country_stats.plot(kind='scatter', x=\"GDP per capita\", y='Life satisfaction')\n",
    "plt.axis([0, 60000, 0, 10])\n",
    "plt.plot(X_linspace, theta_0 + theta_1*X_linspace, \"k\")\n",
    "plt.plot(X_linspace, ridge_theta_0 + ridge_theta_1*X_linspace, \"g\")\n",
    "plt.show()"
   ]
  }
 ],
 "metadata": {
  "interpreter": {
   "hash": "1ec4adc7c4b5436be250e79447a491cc30728826a0f5482912241624cf2c06c4"
  },
  "kernelspec": {
   "display_name": "Python 3.9.11 64-bit ('handson_ml_3911')",
   "language": "python",
   "name": "python3"
  },
  "language_info": {
   "codemirror_mode": {
    "name": "ipython",
    "version": 3
   },
   "file_extension": ".py",
   "mimetype": "text/x-python",
   "name": "python",
   "nbconvert_exporter": "python",
   "pygments_lexer": "ipython3",
   "version": "3.9.11"
  },
  "orig_nbformat": 4
 },
 "nbformat": 4,
 "nbformat_minor": 2
}
