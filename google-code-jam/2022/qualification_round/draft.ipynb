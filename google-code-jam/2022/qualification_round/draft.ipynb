{
 "cells": [
  {
   "cell_type": "code",
   "execution_count": 43,
   "metadata": {},
   "outputs": [
    {
     "name": "stdout",
     "output_type": "stream",
     "text": [
      "Case #1: 300000 200000 300000 200000\n",
      "Case #2: IMPOSSIBLE\n",
      "Case #3: 699508 148041 152451 0\n"
     ]
    }
   ],
   "source": [
    "from unittest import mock\n",
    "\n",
    "import helpers\n",
    "\n",
    "import numpy as np\n",
    "from dataclasses import dataclass\n",
    "\n",
    "@dataclass\n",
    "class Printer:\n",
    "    ciano: int\n",
    "    magenta: int\n",
    "    yellow: int\n",
    "    black: int\n",
    "\n",
    "def balance_color(printer_1, printer_2, printer_3):\n",
    "    max_ciano = min([printer_1.ciano, printer_2.ciano, printer_3.ciano])\n",
    "    max_magenta = min([printer_1.magenta, printer_2.magenta, printer_3.magenta])\n",
    "    max_yellow = min([printer_1.yellow, printer_2.yellow, printer_3.yellow])\n",
    "    max_black = min([printer_1.black, printer_2.black, printer_3.black])\n",
    "\n",
    "    color_amount = 0\n",
    "    max_colors = [max_ciano, max_magenta, max_yellow, max_black]\n",
    "    for i in range(len(max_colors)):\n",
    "        if color_amount + max_colors[i] >= 10**6:\n",
    "            max_colors[i] =  10**6 - color_amount\n",
    "            return \" \".join(map(str,  np.concatenate([np.array(max_colors[:i+1]), np.zeros(len(max_colors)-i-1)]).astype(\"int64\") ))\n",
    "        else:\n",
    "            color_amount += max_colors[i]\n",
    "    return \"IMPOSSIBLE\"\n",
    "\n",
    "\n",
    "examples = [\n",
    "    \"3\",\n",
    "    \"300000 200000 300000 500000\",\n",
    "    \"300000 200000 500000 300000\",\n",
    "    \"300000 500000 300000 200000\",\n",
    "\n",
    "    \"1000000 1000000 0 0\",\n",
    "    \"0 1000000 1000000 1000000\",\n",
    "    \"999999 999999 999999 999999\",\n",
    "\n",
    "    \"768763 148041 178147 984173\",\n",
    "    \"699508 515362 534729 714381\",\n",
    "    \"949704 625054 946212 951187\",\n",
    "]\n",
    "with mock.patch(\n",
    "    \"helpers.get_input\",\n",
    "    side_effect=examples,\n",
    "    autospec=True,\n",
    "):\n",
    "    n_examples = int(helpers.get_input())\n",
    "    for case_idx in range(1, n_examples + 1):\n",
    "        printer_1 = Printer(*list(map(int, helpers.get_input().split(\" \"))))\n",
    "        printer_2 = Printer(*list(map(int, helpers.get_input().split(\" \"))))\n",
    "        printer_3 = Printer(*list(map(int, helpers.get_input().split(\" \"))))\n",
    "        result = balance_color(printer_1, printer_2, printer_3,)\n",
    "        print(f\"Case #{case_idx}: {result}\")\n",
    "\n"
   ]
  },
  {
   "cell_type": "code",
   "execution_count": null,
   "metadata": {},
   "outputs": [],
   "source": [
    "\"\"\"\n",
    "3\n",
    "\n",
    "300000 200000 300000 500000\n",
    "300000 200000 500000 300000\n",
    "300000 500000 300000 200000\n",
    "\n",
    "\n",
    "1000000 1000000 0 0\n",
    "0 1000000 1000000 1000000\n",
    "999999 999999 999999 999999\n",
    "\n",
    "0 999999 0 0 \n",
    "\n",
    "768763 148041 178147 984173\n",
    "699508 515362 534729 714381\n",
    "949704 625054 946212 951187\n",
    "\n",
    "699508 148041 178147 714381\n",
    "\n",
    "\"\"\""
   ]
  }
 ],
 "metadata": {
  "interpreter": {
   "hash": "d3ae450478017116ec9a96fe737f6b1583c284f00cdb50090986763baec7c8a9"
  },
  "kernelspec": {
   "display_name": "Python 3.9.11 64-bit ('code_jam_2022_3911')",
   "language": "python",
   "name": "python3"
  },
  "language_info": {
   "codemirror_mode": {
    "name": "ipython",
    "version": 3
   },
   "file_extension": ".py",
   "mimetype": "text/x-python",
   "name": "python",
   "nbconvert_exporter": "python",
   "pygments_lexer": "ipython3",
   "version": "3.9.11"
  },
  "orig_nbformat": 4
 },
 "nbformat": 4,
 "nbformat_minor": 2
}
