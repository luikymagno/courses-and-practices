{
 "cells": [
  {
   "cell_type": "code",
   "execution_count": 148,
   "metadata": {},
   "outputs": [
    {
     "name": "stdout",
     "output_type": "stream",
     "text": [
      "Case #1:\n",
      "Case #2:\n",
      "Case #3:\n"
     ]
    }
   ],
   "source": [
    "from unittest import mock\n",
    "\n",
    "import helpers\n",
    "import time\n",
    "\n",
    "import numpy as np\n",
    "\n",
    "examples = [\n",
    "    \"3\",\n",
    "]\n",
    "with mock.patch(\n",
    "    \"helpers.get_input\",\n",
    "    side_effect=examples,\n",
    "    autospec=True,\n",
    "):  \n",
    "    n_examples = int(helpers.get_input())\n",
    "    for case_idx in range(1, n_examples + 1):\n",
    "        n_rooms, n_operations = list(map(int, helpers.get_input().split(\" \")))\n",
    "        print(f\"Case #{case_idx}:\")\n"
   ]
  },
  {
   "cell_type": "code",
   "execution_count": null,
   "metadata": {},
   "outputs": [],
   "source": [
    "\"\"\"\"\n",
    "Case #0: Correct -- got 399997800000; exact answer is 499997529883.\n",
    "Case #1: Correct -- got 399998500000; exact answer is 499998379122.\n",
    "Case #2: Correct -- got 1400000; exact answer is 1855145.\n",
    "Case #3: Correct -- got 2700000; exact answer is 2655351.\n",
    "Case #4: Wrong -- got 700000; exact answer is 1268626; acceptable range is [845751, 1691501].\n",
    "Case #5: Correct -- got 399999200000; exact answer is 499998915822.\n",
    "Case #6: Correct -- got 399998800000; exact answer is 499998627601.\n",
    "Case #7: Correct -- got 500000; exact answer is 680680.\n",
    "Case #8: Correct -- got 400000; exact answer is 522577.\n",
    "Case #9: Correct -- got 399998900000; exact answer is 499998465510.\n",
    "Case #10: Correct -- got 399998500000; exact answer is 499997680861.\n",
    "Case #11: Correct -- got 600000; exact answer is 838796.\n",
    "Case #12: Wrong -- got 800000; exact answer is 1232339; acceptable range is [821560, 1643118].\n",
    "Case #13: Correct -- got 1900000; exact answer is 2710435.\n",
    "Case #14: Correct -- got 2200000; exact answer is 2599100.\n",
    "Case #15: Correct -- got 500000; exact answer is 581216.\n",
    "Case #16: Correct -- got 399998000000; exact answer is 499997789050.\n",
    "Case #17: Correct -- got 800000; exact answer is 1155190.\n",
    "Case #18: Correct -- got 399998500000; exact answer is 499998008181.\n",
    "Case #19: Correct -- got 399997100000; exact answer is 499996477808.\n",
    "User got 18 cases correct.\n",
    "\"\"\""
   ]
  }
 ],
 "metadata": {
  "interpreter": {
   "hash": "d3ae450478017116ec9a96fe737f6b1583c284f00cdb50090986763baec7c8a9"
  },
  "kernelspec": {
   "display_name": "Python 3.9.11 64-bit ('code_jam_2022_3911')",
   "language": "python",
   "name": "python3"
  },
  "language_info": {
   "codemirror_mode": {
    "name": "ipython",
    "version": 3
   },
   "file_extension": ".py",
   "mimetype": "text/x-python",
   "name": "python",
   "nbconvert_exporter": "python",
   "pygments_lexer": "ipython3",
   "version": "3.9.11"
  },
  "orig_nbformat": 4
 },
 "nbformat": 4,
 "nbformat_minor": 2
}
